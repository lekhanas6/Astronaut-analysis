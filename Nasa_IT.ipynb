{
  "nbformat": 4,
  "nbformat_minor": 0,
  "metadata": {
    "colab": {
      "provenance": [],
      "authorship_tag": "ABX9TyMakJGadrkbpJZULf0qjMhU"
    },
    "kernelspec": {
      "name": "python3",
      "display_name": "Python 3"
    },
    "language_info": {
      "name": "python"
    }
  },
  "cells": [
    {
      "cell_type": "code",
      "execution_count": null,
      "metadata": {
        "id": "HF7WHiIHiVvm"
      },
      "outputs": [],
      "source": [
        "import requests\n",
        "import csv\n",
        "\n",
        "# Replace 'YOUR_API_KEY' with your actual API key\n",
        "api_key = 'VqtCWIqIUnCvIxN31DywTWdj5TkWw28kAWEfIAgC'\n",
        "base_url = 'https://api.nasa.gov/neo/rest/v1/feed'\n",
        "start_date = '2024-01-01'\n",
        "end_date = '2024-01-01'\n",
        "\n",
        "# Construct the API request URL\n",
        "api_url = f'{base_url}?start_date={start_date}&end_date={end_date}&api_key={api_key}'\n",
        "\n",
        "# Make the API request\n",
        "response = requests.get(api_url)\n",
        "\n",
        "\n"
      ]
    },
    {
      "cell_type": "code",
      "source": [
        "# Check if the request was successful (status code 200)\n",
        "if response.status_code == 200:\n",
        "    # Parse the JSON response\n",
        "    data = response.json()\n",
        "\n",
        "    # Extract data points and write to CSV\n",
        "    asteroids = data['near_earth_objects'][start_date]\n",
        "    asteroids\n",
        "    # Define CSV file and header\n",
        "    csv_file = 'asteroids_data.csv'\n",
        "    header = ['name', 'id', 'date', 'estimated_diameter_max', 'estimated_diameter_min',\n",
        "              'absolute_magnitude_h', 'is_potentially_hazardous_asteroid',\n",
        "              'relative_velocity_mph', 'miss_distance_miles']\n",
        "\n",
        "    with open(csv_file, mode='w', newline='') as file:\n",
        "        writer = csv.writer(file)\n",
        "\n",
        "        # Write header to CSV\n",
        "        writer.writerow(header)\n",
        "\n",
        "        # Write asteroid data to CSV\n",
        "        for asteroid in asteroids:\n",
        "            row = [\n",
        "                asteroid['name'],\n",
        "                asteroid['id'],\n",
        "                start_date,\n",
        "                asteroid['estimated_diameter']['miles']['estimated_diameter_max'],\n",
        "                asteroid['estimated_diameter']['miles']['estimated_diameter_min'],\n",
        "                asteroid['absolute_magnitude_h'],\n",
        "                asteroid['is_potentially_hazardous_asteroid'],\n",
        "                asteroid['close_approach_data'][0]['relative_velocity']['miles_per_hour'],\n",
        "                asteroid['close_approach_data'][0]['miss_distance']['miles']\n",
        "            ]\n",
        "            writer.writerow(row)\n",
        "\n",
        "    print(f'Data has been successfully written to {csv_file}')\n",
        "else:\n",
        "    print(f\"Error: {response.status_code}\")"
      ],
      "metadata": {
        "colab": {
          "base_uri": "https://localhost:8080/"
        },
        "id": "PIVvQ9cXmRuV",
        "outputId": "74734bd1-9b2c-4c88-9e76-7dbf91460733"
      },
      "execution_count": null,
      "outputs": [
        {
          "output_type": "stream",
          "name": "stdout",
          "text": [
            "Data has been successfully written to asteroids_data.csv\n"
          ]
        }
      ]
    }
  ]
}